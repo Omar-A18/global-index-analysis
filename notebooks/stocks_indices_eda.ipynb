{
 "cells": [
  {
   "cell_type": "markdown",
   "id": "f3e5e421",
   "metadata": {},
   "source": [
    "# Análisis de índices bursátiles"
   ]
  },
  {
   "cell_type": "markdown",
   "id": "1353364f",
   "metadata": {},
   "source": [
    "## Importación de librerías"
   ]
  },
  {
   "cell_type": "code",
   "execution_count": 107,
   "id": "dd8c85a1",
   "metadata": {},
   "outputs": [],
   "source": [
    "import pandas as pd\n",
    "import numpy as np\n",
    "import matplotlib.pyplot as plt\n",
    "import seaborn as sns\n",
    "import matplotlib.dates as mdates\n",
    "import plotly.express as px\n",
    "import os\n"
   ]
  },
  {
   "cell_type": "markdown",
   "id": "3f280d56",
   "metadata": {},
   "source": [
    "## Carga de datos"
   ]
  },
  {
   "cell_type": "code",
   "execution_count": 108,
   "id": "c9a8e021",
   "metadata": {},
   "outputs": [],
   "source": [
    "df_sp500 = pd.read_csv(\"../data/raw/sp_500.csv\")\n",
    "df_cac40 = pd.read_csv(\"../data/raw/cac_40.csv\")\n",
    "df_dax40 = pd.read_csv(\"../data/raw/dax_40.csv\")\n",
    "df_dowjones = pd.read_csv(\"../data/raw/dow_jones.csv\")\n",
    "df_eurostoxx50 = pd.read_csv(\"../data/raw/euro_stoxx_50.csv\")\n",
    "df_ftse100 = pd.read_csv(\"../data/raw/ftse_100.csv\")\n",
    "df_hangseng = pd.read_csv(\"../data/raw/hang_seng.csv\")\n",
    "df_nasdaq100 = pd.read_csv(\"../data/raw/nasdaq_100.csv\")\n",
    "df_nikkei225 = pd.read_csv(\"../data/raw/nikkei_225.csv\")\n",
    "df_russell2000 = pd.read_csv(\"../data/raw/russell_2000.csv\")\n"
   ]
  },
  {
   "cell_type": "markdown",
   "id": "4d6e61d5",
   "metadata": {},
   "source": [
    "## Procesamiento y Limpieza de datos"
   ]
  },
  {
   "cell_type": "markdown",
   "id": "70549c2d",
   "metadata": {},
   "source": [
    "📈 Función de análisis financiero por índice:  \n",
    "\n",
    "Esta función aplica un conjunto de cálculos estándar de análisis financiero a cualquier índice bursátil. Dado un DataFrame con precios diarios (Open, High, Low, Close, Volume), añade columnas clave para evaluar su rendimiento y comportamiento a lo largo del tiempo.\n",
    "\n",
    "🔧 Cálculos incluidos:  \n",
    "- Rentabilidad diaria y porcentual\n",
    "- Medias móviles de 10 y 50 días\n",
    "- Rentabilidad acumulada (desde el primer día)\n",
    "- Caída máxima (drawdown) respecto al máximo histórico\n",
    "- Volatilidad móvil de 30 días\n",
    "- Ratio de Sharpe móvil de 30 días\n",
    "\n",
    "📊 Indicadores agregados que se imprimen:\n",
    "- CAGR (Tasa de crecimiento anual compuesta)\n",
    "- Caída máxima promedio\n",
    "- Volatilidad media\n",
    "- Sharpe medio"
   ]
  },
  {
   "cell_type": "code",
   "execution_count": 109,
   "id": "19363c54",
   "metadata": {},
   "outputs": [],
   "source": [
    "def procesar_indice(df, nombre='Índice'):\n",
    "    df['rentabilidad'] = df['close'].pct_change()\n",
    "    df['rentabilidad_%'] = df['rentabilidad'] * 100\n",
    "    df['media_movil_10d'] = df['close'].rolling(window=10).mean()\n",
    "    df['media_movil_50d'] = df['close'].rolling(window=50).mean()\n",
    "    df['rentabilidad_acumulada'] = (1 + df['rentabilidad']).cumprod()\n",
    "    df['maximo_acumulado'] = df['rentabilidad_acumulada'].cummax()\n",
    "    df['caida_maxima'] = df['rentabilidad_acumulada'] / df['maximo_acumulado'] - 1\n",
    "    df = df.drop(columns=['maximo_acumulado'])\n",
    "    df['volatilidad_30d'] = df['rentabilidad'].rolling(window=30).std()\n",
    "    df['sharpe_30d'] = df['rentabilidad'].rolling(window=30).mean() / df['volatilidad_30d']\n",
    "\n",
    "    años = (pd.to_datetime(df.index[-1]) - pd.to_datetime(df.index[0])).days / 365\n",
    "    precio_inicial = df['close'].iloc[0]\n",
    "    precio_final = df['close'].iloc[-1]\n",
    "\n",
    "    indicadores = {\n",
    "        'CAGR': (precio_final / precio_inicial) ** (1 / años) - 1,\n",
    "        'drawdown_promedio': df['caida_maxima'].mean(),\n",
    "        'volatilidad_media': df['volatilidad_30d'].mean(),\n",
    "        'sharpe_medio': df['sharpe_30d'].mean()\n",
    "    }\n",
    "\n",
    "    return df, indicadores\n",
    "\n"
   ]
  },
  {
   "cell_type": "code",
   "execution_count": 110,
   "id": "03bdaf7f",
   "metadata": {},
   "outputs": [],
   "source": [
    "\n",
    "nombres_dfs = [\n",
    "    'df_sp500', 'df_cac40', 'df_dax40', 'df_dowjones', 'df_eurostoxx50',\n",
    "    'df_ftse100', 'df_hangseng', 'df_nasdaq100', 'df_nikkei225', 'df_russell2000'\n",
    "]\n",
    "\n",
    "for nombre in nombres_dfs:\n",
    "    globals()[nombre] = globals()[nombre][['Date', 'Open', 'High', 'Low', 'Close', 'Volume']]\n",
    "    globals()[nombre].columns = globals()[nombre].columns.str.lower()\n",
    "\n",
    "nombres_dfs = [\n",
    "    \"df_sp500\",\n",
    "    \"df_cac40\",\n",
    "    \"df_dax40\",\n",
    "    \"df_dowjones\",\n",
    "    \"df_eurostoxx50\",\n",
    "    \"df_ftse100\",\n",
    "    \"df_hangseng\",\n",
    "    \"df_nasdaq100\",\n",
    "    \"df_nikkei225\",\n",
    "    \"df_russell2000\"\n",
    "]\n",
    "\n",
    "for nombre in nombres_dfs:\n",
    "    globals()[nombre].set_index(\"date\", inplace=True)\n",
    "\n",
    "\n"
   ]
  },
  {
   "cell_type": "markdown",
   "id": "6c8e0271",
   "metadata": {},
   "source": [
    "Crear nueva tabla comparativa entre indices"
   ]
  },
  {
   "cell_type": "code",
   "execution_count": 114,
   "id": "cfea2cf6",
   "metadata": {},
   "outputs": [
    {
     "name": "stdout",
     "output_type": "stream",
     "text": [
      "Resumen guardado en ../data/processed/all_indices.csv\n"
     ]
    }
   ],
   "source": [
    "# Lista para guardar los resultados de cada índice\n",
    "all_indices = []\n",
    "\n",
    "ruta_guardado = '../data/processed'\n",
    "\n",
    "# Diccionario con los nombres y los DataFrames\n",
    "indices = {\n",
    "    \"S&P 500\": df_sp500,\n",
    "    \"CAC 40\": df_cac40,\n",
    "    \"DAX 40\": df_dax40,\n",
    "    \"Dow Jones\": df_dowjones,\n",
    "    \"Euro Stoxx 50\": df_eurostoxx50,\n",
    "    \"FTSE 100\": df_ftse100,\n",
    "    \"Hang Seng Index\": df_hangseng,\n",
    "    \"Nasdaq 100\": df_nasdaq100,\n",
    "    \"Nikkei 225\": df_nikkei225,\n",
    "    \"Russell 2000\": df_russell2000\n",
    "}\n",
    "\n",
    "# Bucle principal\n",
    "for nombre, df in indices.items():\n",
    "    df_procesado, resumen = procesar_indice(df.copy(), nombre)\n",
    "\n",
    "    # Añadir los resultados al resumen general\n",
    "    all_indices.append({\n",
    "        \"indice\": nombre,\n",
    "        \"crec_anu_comp\": resumen[\"CAGR\"],\n",
    "        \"caida_maxima_promedio\": resumen[\"drawdown_promedio\"],\n",
    "        \"volatilidad_media\": resumen[\"volatilidad_media\"],\n",
    "        \"sharpe_medio\": resumen[\"sharpe_medio\"]\n",
    "    })\n",
    "\n",
    "# Crear DataFrame resumen\n",
    "df_all_indices = pd.DataFrame(all_indices)\n",
    "\n",
    "# Guardar el resumen en la ruta deseada\n",
    "ruta_resumen = os.path.join(ruta_guardado, 'all_indices.csv')\n",
    "df_all_indices.to_csv(ruta_resumen, index=False)\n",
    "print(f\"Resumen guardado en {ruta_resumen}\")\n"
   ]
  },
  {
   "cell_type": "code",
   "execution_count": null,
   "id": "9fa7bac1",
   "metadata": {},
   "outputs": [
    {
     "name": "stdout",
     "output_type": "stream",
     "text": [
      "Guardado S&P 500 en ../data/processed/sp_500.csv\n",
      "Guardado CAC 40 en ../data/processed/cac_40.csv\n",
      "Guardado DAX 40 en ../data/processed/dax_40.csv\n",
      "Guardado Dow Jones en ../data/processed/dow_jones.csv\n",
      "Guardado Euro Stoxx 50 en ../data/processed/euro_stoxx_50.csv\n",
      "Guardado FTSE 100 en ../data/processed/ftse_100.csv\n",
      "Guardado Hang Seng Index en ../data/processed/hang_seng_index.csv\n",
      "Guardado Nasdaq 100 en ../data/processed/nasdaq_100.csv\n",
      "Guardado Nikkei 225 en ../data/processed/nikkei_225.csv\n",
      "Guardado Russell 2000 en ../data/processed/russell_2000.csv\n"
     ]
    }
   ],
   "source": [
    "# Diccionario con tus DataFrames\n",
    "indices = {\n",
    "    \"S&P 500\": df_sp500,\n",
    "    \"CAC 40\": df_cac40,\n",
    "    \"DAX 40\": df_dax40,\n",
    "    \"Dow Jones\": df_dowjones,\n",
    "    \"Euro Stoxx 50\": df_eurostoxx50,\n",
    "    \"FTSE 100\": df_ftse100,\n",
    "    \"Hang Seng Index\": df_hangseng,\n",
    "    \"Nasdaq 100\": df_nasdaq100,\n",
    "    \"Nikkei 225\": df_nikkei225,\n",
    "    \"Russell 2000\": df_russell2000\n",
    "}\n",
    "\n",
    "def nombre_a_archivo(nombre):\n",
    "    nombre = nombre.lower()\n",
    "    nombre = nombre.replace(\" \", \"_\")\n",
    "    nombre = nombre.replace(\"&\", \"\")\n",
    "    nombre = nombre.replace(\".\", \"\")\n",
    "    nombre = nombre.replace(\"-\", \"_\")\n",
    "    return nombre + '.csv'\n",
    "\n",
    "for nombre, df in indices.items():\n",
    "    df_procesado, _ = procesar_indice(df.copy(), nombre)  # Desempaquetar la tupla\n",
    "    archivo = nombre_a_archivo(nombre)\n",
    "    ruta = os.path.join(ruta_guardado, archivo)\n",
    "    df_procesado.to_csv(ruta)\n",
    "    print(f\"Guardado {nombre} en {ruta}\")\n",
    "\n"
   ]
  },
  {
   "cell_type": "code",
   "execution_count": null,
   "id": "7bb3b046",
   "metadata": {},
   "outputs": [],
   "source": []
  },
  {
   "cell_type": "code",
   "execution_count": null,
   "id": "3c60695d",
   "metadata": {},
   "outputs": [],
   "source": []
  },
  {
   "cell_type": "code",
   "execution_count": null,
   "id": "11c69985",
   "metadata": {},
   "outputs": [],
   "source": []
  }
 ],
 "metadata": {
  "kernelspec": {
   "display_name": "data_analysis_env",
   "language": "python",
   "name": "python3"
  },
  "language_info": {
   "codemirror_mode": {
    "name": "ipython",
    "version": 3
   },
   "file_extension": ".py",
   "mimetype": "text/x-python",
   "name": "python",
   "nbconvert_exporter": "python",
   "pygments_lexer": "ipython3",
   "version": "3.11.11"
  }
 },
 "nbformat": 4,
 "nbformat_minor": 5
}
